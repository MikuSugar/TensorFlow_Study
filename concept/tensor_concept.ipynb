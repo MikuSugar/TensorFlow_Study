{
 "cells": [
  {
   "cell_type": "markdown",
   "source": [
    "# 张量\n",
    "## 神经网络的数据表示-张量\n",
    "> 一般来说，当前所有机器学习系统都使用张量作为基本数据结构。张量对这个领域非常重要，重要到 Google 的\n",
    "TensorFlow 都以它来命名。\n",
    "张量这一概念的核心在于，它是一个数据容器。它包含的数据几乎总是数值数据，因此它\n",
    "是数字的容器。你可能对矩阵很熟悉，它是二维张量。张量是矩阵向任意维度的推广［注意，\n",
    "张量的维度（dimension）通常叫作轴（axis）］。\n",
    "\n",
    "### 标量(0D 张量)\n",
    "仅包含一个数字的张量叫作标量（scalar，也叫标量张量、零维张量、0D 张量）。在 Numpy\n",
    "中，一个 float32 或 float64 的数字就是一个标量张量（或标量数组）。\n",
    "标量张量有 0 个轴（ndim == 0）。张量轴的个数也叫作\n",
    "阶（rank）。下面是一个 Numpy 标量。"
   ],
   "metadata": {
    "collapsed": false
   }
  },
  {
   "cell_type": "code",
   "execution_count": 2,
   "outputs": [
    {
     "name": "stdout",
     "output_type": "stream",
     "text": [
      "12\n",
      "0\n"
     ]
    }
   ],
   "source": [
    "import numpy as np\n",
    "\n",
    "x = np.array(12)\n",
    "print(x)\n",
    "print(x.ndim)"
   ],
   "metadata": {
    "collapsed": false,
    "pycharm": {
     "name": "#%%\n"
    }
   }
  },
  {
   "cell_type": "markdown",
   "source": [
    "### 向量（1D 张量）\n",
    "数字组成的数组叫作向量（vector）或一维张量（1D 张量）。一维张量只有一个轴。下面是\n",
    "一个 Numpy 向量。\n"
   ],
   "metadata": {
    "collapsed": false
   }
  },
  {
   "cell_type": "code",
   "execution_count": 3,
   "outputs": [
    {
     "name": "stdout",
     "output_type": "stream",
     "text": [
      "[12  4  6  7]\n",
      "1\n",
      "<class 'numpy.ndarray'>\n"
     ]
    }
   ],
   "source": [
    "x = np.array([12, 4, 6, 7])\n",
    "print(x)\n",
    "print(x.ndim)"
   ],
   "metadata": {
    "collapsed": false,
    "pycharm": {
     "name": "#%%\n"
    }
   }
  },
  {
   "cell_type": "markdown",
   "source": [
    "这个向量有4个元素，所以被称为4D向量，4D向量和4D张量是完全不同的概念\n",
    "+ 4D向量：只有一个轴，沿着轴有5个维度\n",
    "+ 4D张量：有4个轴，每个轴有任意维度"
   ],
   "metadata": {
    "collapsed": false
   }
  },
  {
   "cell_type": "markdown",
   "source": [
    "> 维度\n",
    "（dimensionality）可以表示沿着某个轴上的元素个数（比如 4D 向量），也可以表示张量中轴的个\n",
    "数（比如 4D 张量），这有时会令人感到混乱。对于后一种情况，技术上更准确的说法是 4 阶张量\n",
    "（张量的阶数即轴的个数），但 4D 张量这种模糊的写法更常见。\n",
    "\n",
    "### 矩阵（2D 张量）\n",
    "向量组成的数组叫作矩阵（matrix）或二维张量（2D 张量）。矩阵有 2 个轴（通常叫作行和\n",
    "列）。你可以将矩阵直观地理解为数字组成的矩形网格。下面是一个 Numpy 矩阵。"
   ],
   "metadata": {
    "collapsed": false,
    "pycharm": {
     "name": "#%% md\n"
    }
   }
  },
  {
   "cell_type": "code",
   "execution_count": 13,
   "outputs": [
    {
     "name": "stdout",
     "output_type": "stream",
     "text": [
      "[[ 5 23  4]\n",
      " [ 4  8  9]\n",
      " [11 23 45]]\n",
      "2\n"
     ]
    }
   ],
   "source": [
    "x = np.array([[5, 23, 4], [4, 8, 9], [11, 23, 45]])\n",
    "print(x)\n",
    "print(x.ndim)"
   ],
   "metadata": {
    "collapsed": false,
    "pycharm": {
     "name": "#%%\n"
    }
   }
  },
  {
   "cell_type": "markdown",
   "source": [
    "第一个轴上的元素叫做行（row）,第二个轴上的元素叫做列,在👆的例子中，`5 23 4` 是第一行，`5 4 11` 是第一列\n",
    "### 3D 张量与更高维张量\n",
    "将多个矩阵组合成一个新的数组，可以得到一个 3D 张量."
   ],
   "metadata": {
    "collapsed": false
   }
  },
  {
   "cell_type": "code",
   "execution_count": 5,
   "outputs": [
    {
     "name": "stdout",
     "output_type": "stream",
     "text": [
      "3\n"
     ]
    }
   ],
   "source": [
    "x = np.array(\n",
    "    [[[5, 78, 2, 34, 0],\n",
    "      [6, 79, 3, 35, 1],\n",
    "      [7, 80, 4, 36, 2]],\n",
    "     [[5, 78, 2, 34, 0],\n",
    "      [6, 79, 3, 35, 1],\n",
    "      [7, 80, 4, 36, 2]],\n",
    "     [[5, 78, 2, 34, 0],\n",
    "      [6, 79, 3, 35, 1],\n",
    "      [7, 80, 4, 36, 2]]])\n",
    "print(x.ndim)"
   ],
   "metadata": {
    "collapsed": false,
    "pycharm": {
     "name": "#%%\n"
    }
   }
  },
  {
   "cell_type": "markdown",
   "source": [
    "依此类推，将多个3D张量组合成一个数组，就可以创建一个4D张量\n",
    "\n",
    "### 关键属性\n",
    "张量是由以下三个属性来定义的\n",
    "+ **轴的个数（阶）**。例如，3D 张量有 3 个轴，矩阵有 2 个轴。这在 Numpy 等 Python 库中\n",
    "也叫张量的 ndim。\n",
    "+ **形状**。这是一个整数元组，表示张量沿每个轴的维度大小（元素个数）。例如，前面矩\n",
    "阵示例的形状为 (3, 5)，3D 张量示例的形状为 (3, 3, 5)。向量的形状只包含一个\n",
    "元素，比如 (5,)，而标量的形状为空，即 ()。\n",
    "+ **数据类型**。（在 Python 库中通常叫作 dtype）。这是张量中所包含数据的类型，例如，张\n",
    "量的类型可以是 float32、uint8、float64 等。在极少数情况下，你可能会遇到字符\n",
    "（char）张量。注意，Numpy（以及大多数其他库）中不存在字符串张量，因为张量存\n",
    "储在预先分配的连续内存段中，而字符串的长度是可变的，无法用这种方式存储。\n",
    "\n",
    "再看一个MNIST数据的例子:\n",
    "\n",
    "先导入数据"
   ],
   "metadata": {
    "collapsed": false
   }
  },
  {
   "cell_type": "code",
   "execution_count": 6,
   "outputs": [
    {
     "name": "stdout",
     "output_type": "stream",
     "text": [
      "Init Plugin\n",
      "Init Graph Optimizer\n",
      "Init Kernel\n"
     ]
    }
   ],
   "source": [
    "import tensorflow as tf\n",
    "\n",
    "mnist = tf.keras.datasets.mnist\n",
    "(train_images, train_labels), (test_images, test_labels) = mnist.load_data()"
   ],
   "metadata": {
    "collapsed": false,
    "pycharm": {
     "name": "#%%\n"
    }
   }
  },
  {
   "cell_type": "markdown",
   "source": [
    "👀一下训练数据,依次看轴，形状和数据类型"
   ],
   "metadata": {
    "collapsed": false,
    "pycharm": {
     "name": "#%% md\n"
    }
   }
  },
  {
   "cell_type": "code",
   "execution_count": 7,
   "outputs": [
    {
     "name": "stdout",
     "output_type": "stream",
     "text": [
      "3\n",
      "(10000, 28, 28)\n",
      "uint8\n"
     ]
    }
   ],
   "source": [
    "print(train_images.ndim)\n",
    "print(test_images.shape)\n",
    "print(train_images.dtype)"
   ],
   "metadata": {
    "collapsed": false,
    "pycharm": {
     "name": "#%%\n"
    }
   }
  },
  {
   "cell_type": "markdown",
   "source": [
    "由👆可以看出，`train_images`是一个由 8 位整数组成的 3D 张量，更确切地说，它是60000个矩阵组成的数组，每个矩阵由 28×28 个整数组成。每个这样的矩阵都是一张灰度图像，元素\n",
    "取值范围为 0~255。\n",
    "\n",
    "用 Matplotlib 库（Python 标准科学套件的一部分）来显示这个 3D 张量中的第 315 个数字"
   ],
   "metadata": {
    "collapsed": false
   }
  },
  {
   "cell_type": "code",
   "execution_count": 8,
   "outputs": [
    {
     "data": {
      "text/plain": "<Figure size 432x288 with 1 Axes>",
      "image/png": "[encoded data removed]"
     },
     "metadata": {
      "needs_background": "light"
     },
     "output_type": "display_data"
    }
   ],
   "source": [
    "import matplotlib.pyplot as plt\n",
    "\n",
    "digit = train_images[315]\n",
    "plt.imshow(digit, cmap=plt.cm.binary)\n",
    "plt.show()"
   ],
   "metadata": {
    "collapsed": false,
    "pycharm": {
     "name": "#%%\n"
    }
   }
  },
  {
   "cell_type": "markdown",
   "source": [
    "### 在numpy中操作张量\n",
    "在👆的代码中，选择第315张图片的语法叫做张量切片（tensor slicing），也就是选择张量的特定元素。在numpy数组中上的张量切片运算。\n",
    "👇这个例子中选择第 10~100 个数字（不包括第 100 个），并将其放在形状为 (90, 28, 28) 的数组中。三种写法等价"
   ],
   "metadata": {
    "collapsed": false,
    "pycharm": {
     "name": "#%% md\n"
    }
   }
  },
  {
   "cell_type": "code",
   "execution_count": 9,
   "outputs": [
    {
     "name": "stdout",
     "output_type": "stream",
     "text": [
      "(90, 28, 28)\n",
      "(90, 28, 28)\n",
      "(90, 28, 28)\n"
     ]
    }
   ],
   "source": [
    "sugar_slice = train_images[10:100]\n",
    "print(sugar_slice.shape)\n",
    "# 更复杂的写法：给出了切片沿着每个张量轴的起始索引和结束索引。注意，: 等同于选择整个轴。\n",
    "sugar_slice = train_images[10:100, :, :]\n",
    "print(sugar_slice.shape)\n",
    "\n",
    "sugar_slice = train_images[10:100, 0:28, 0:28]\n",
    "print(sugar_slice.shape)"
   ],
   "metadata": {
    "collapsed": false,
    "pycharm": {
     "name": "#%%\n"
    }
   }
  },
  {
   "cell_type": "markdown",
   "source": [
    "沿着每个张量轴在任意两个索引之间进行选择。例如在所有图像的右下角选出 14 像素×14 像素的区域："
   ],
   "metadata": {
    "collapsed": false
   }
  },
  {
   "cell_type": "code",
   "execution_count": 10,
   "outputs": [
    {
     "name": "stdout",
     "output_type": "stream",
     "text": [
      "(60000, 14, 14)\n"
     ]
    }
   ],
   "source": [
    "sugar_slice = train_images[:, 14:, 14:]\n",
    "print(sugar_slice.shape)"
   ],
   "metadata": {
    "collapsed": false,
    "pycharm": {
     "name": "#%%\n"
    }
   }
  },
  {
   "cell_type": "markdown",
   "source": [
    "也可以使用负数索引。与 Python 列表中的负数索引类似，它表示与当前轴终点的相对位置。可以在图像中心裁剪出 14 像素×14 像素的区域："
   ],
   "metadata": {
    "collapsed": false
   }
  },
  {
   "cell_type": "code",
   "execution_count": 11,
   "outputs": [
    {
     "name": "stdout",
     "output_type": "stream",
     "text": [
      "(60000, 14, 14)\n"
     ]
    }
   ],
   "source": [
    "sugar_slice = train_images[:, 7:-7, 7:-7]\n",
    "print(sugar_slice.shape)"
   ],
   "metadata": {
    "collapsed": false,
    "pycharm": {
     "name": "#%%\n"
    }
   }
  },
  {
   "cell_type": "markdown",
   "source": [
    "### 现实世界中的数据张量\n",
    "+ **向量数据**：2D 张量，形状为 (samples, features)\n",
    "+ **序列数据**：3D 张量，形状为 (samples, timesteps, features)。\n",
    "+ **图像**：4D 张量，形状为 (samples, height, width, channels) 或 (samples, channels, height, width)。\n",
    "+ **视频**：5D 张量，形状为 (samples, frames, height, width, channels) 或 (samples, frames, channels, height, width)。"
   ],
   "metadata": {
    "collapsed": false,
    "pycharm": {
     "name": "#%% md\n"
    }
   }
  }
 ],
 "metadata": {
  "kernelspec": {
   "display_name": "Python 3",
   "language": "python",
   "name": "python3"
  },
  "language_info": {
   "codemirror_mode": {
    "name": "ipython",
    "version": 2
   },
   "file_extension": ".py",
   "mimetype": "text/x-python",
   "name": "python",
   "nbconvert_exporter": "python",
   "pygments_lexer": "ipython2",
   "version": "2.7.6"
  }
 },
 "nbformat": 4,
 "nbformat_minor": 0
}