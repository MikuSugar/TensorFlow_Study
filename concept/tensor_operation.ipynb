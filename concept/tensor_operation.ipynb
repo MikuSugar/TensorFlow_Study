{
 "cells": [
  {
   "cell_type": "markdown",
   "metadata": {
    "collapsed": true,
    "pycharm": {
     "name": "#%% md\n"
    }
   },
   "source": [
    "# 张量运算\n",
    "## 逐元素运算\n",
    "rule 运算和 加法 都是逐元素（element-wise）运算，即该运算独立地应用于张量中的每个元素。\n",
    "### rule 运算的简单实现"
   ]
  },
  {
   "cell_type": "code",
   "execution_count": 32,
   "outputs": [
    {
     "name": "stdout",
     "output_type": "stream",
     "text": [
      "sugar_rule\n",
      "[[1 3]\n",
      " [4 0]]\n",
      "numpy rule:\n",
      "[[1 3]\n",
      " [4 0]]\n"
     ]
    }
   ],
   "source": [
    "import numpy as np\n",
    "\n",
    "\n",
    "def sugar_rule(x: np.ndarray):\n",
    "    assert len(x.shape) == 2  #x 是一个 Numpy的2D张量\n",
    "    res = x.copy()\n",
    "    for i in range(x.shape[0]):\n",
    "        for j in range(x.shape[1]):\n",
    "            res[i, j] = max(x[i, j], 0)\n",
    "    return res\n",
    "\n",
    "\n",
    "v = np.array([[1, 3], [4, -1]])\n",
    "print(\"sugar_rule\")\n",
    "res1 = sugar_rule(v)\n",
    "print(res1)\n",
    "print(\"numpy rule:\")\n",
    "print(np.maximum(v, 0))\n"
   ],
   "metadata": {
    "collapsed": false,
    "pycharm": {
     "name": "#%%\n"
    }
   }
  },
  {
   "cell_type": "markdown",
   "source": [
    "### 加法的简单实现"
   ],
   "metadata": {
    "collapsed": false
   }
  },
  {
   "cell_type": "code",
   "execution_count": 33,
   "outputs": [
    {
     "name": "stdout",
     "output_type": "stream",
     "text": [
      "sugar_add:\n",
      "[[ 2  8]\n",
      " [11  8]]\n",
      "numpy add :\n",
      "[[ 2  8]\n",
      " [11  8]]\n"
     ]
    }
   ],
   "source": [
    "def sugar_add(x: np.ndarray, y: np.ndarray):\n",
    "    assert len(x.shape) == 2\n",
    "    assert x.shape==y.shape\n",
    "    res = x.copy()\n",
    "    for i in range(x.shape[0]):\n",
    "        for j in range(x.shape[1]):\n",
    "            res[i,j]+=y[i,j]\n",
    "    return res\n",
    "a = np.array([[1, 3], [4, -1]])\n",
    "b = np.array([[1, 5], [7, 9]])\n",
    "print(\"sugar_add:\")\n",
    "print(sugar_add(a,b))\n",
    "print(\"numpy add :\")\n",
    "print(a+b)"
   ],
   "metadata": {
    "collapsed": false,
    "pycharm": {
     "name": "#%%\n"
    }
   }
  },
  {
   "cell_type": "markdown",
   "source": [
    "### 广播\n",
    "在👆的例子中，add是两个形状相同的张量相加，如何两个形状不同的张量相加：\n",
    "如果没有歧义的话，较小的张量会被广播，以匹配较大张量的形状。广播包含以下两步。\n",
    "+ 向较小的张量添加轴，使其ndim与较大的张量相同。\n",
    "+ 将较小的张量沿着新轴重复，使其形状与较大的张量相同。\n",
    "\n",
    "一个例子：\n",
    "假设X的形状是（32，10），y的形状是（10,）。首先，给y添加空的第一个轴，\n",
    "这样y的形状为变为（1，10）。然后，将y沿着新轴重复32次，\n",
    "这样我们将 y 沿着新轴重复 32 次，这样得到的张量 Y 的形状为 (32, 10)，\n",
    "并且 Y[i, :] == y for i in range(0, 32)。现在，我们可以将 X 和 Y 相加，\n",
    "因为它们的形状相同。\n",
    "\n",
    "简单的代码示例："
   ],
   "metadata": {
    "collapsed": false
   }
  },
  {
   "cell_type": "code",
   "execution_count": 34,
   "outputs": [
    {
     "name": "stdout",
     "output_type": "stream",
     "text": [
      "[[4 5]\n",
      " [6 7]]\n"
     ]
    }
   ],
   "source": [
    "def sugar_add_matrix_and_vector(x_max:np.ndarray,y_min:np.ndarray):\n",
    "    assert len(x_max.shape)==2\n",
    "    assert len(y_min.shape)==1\n",
    "    assert x_max.shape[1]==y_min.shape[0]\n",
    "    res = x_max.copy()\n",
    "    for i in range(x_max.shape[0]):\n",
    "        for j in range(x_max.shape[1]):\n",
    "            res[i,j]+=y_min[j]\n",
    "    return res\n",
    "\n",
    "x = np.array([[1,2],[3,4]])\n",
    "y = np.array([3,3])\n",
    "print(sugar_add_matrix_and_vector(x,y))"
   ],
   "metadata": {
    "collapsed": false,
    "pycharm": {
     "name": "#%%\n"
    }
   }
  },
  {
   "cell_type": "markdown",
   "source": [
    "如果一个张量的形状是 (a, b, ... n, n+1, ... m)，另一个张量的形状是 (n, n+1,... m)，那么通常可以利用广播对它们做两个张量之间的逐元素运算。广播操作会自动应用于从 a 到 n-1 的轴。\n",
    "下面这个例子利用广播将逐元素的 maximum 运算应用于两个形状不同的张量。"
   ],
   "metadata": {
    "collapsed": false,
    "pycharm": {
     "name": "#%% md\n"
    }
   }
  },
  {
   "cell_type": "code",
   "execution_count": 44,
   "outputs": [
    {
     "name": "stdout",
     "output_type": "stream",
     "text": [
      "(65, 1, 2, 3)\n"
     ]
    }
   ],
   "source": [
    "x1 = np.random.random((65,1,2,3))\n",
    "y1 = np.random.random((2,3))\n",
    "z = np.maximum(x1,y1)\n",
    "print(z.shape)"
   ],
   "metadata": {
    "collapsed": false,
    "pycharm": {
     "name": "#%%\n"
    }
   }
  },
  {
   "cell_type": "markdown",
   "source": [
    "## 张量点积\n",
    "点积运算，也叫张量积（tensor product，不要与逐元素的乘积弄混），是最常见也最有用的\n",
    "张量运算。与逐元素的运算不同，它将输入张量的元素合并在一起。\n",
    "在 Numpy、Keras、Theano 和 TensorFlow 中，都是用 * 实现逐元素乘积。TensorFlow 中的\n",
    "点积使用了不同的语法，但在 Numpy 和 Keras 中，都是用标准的 dot 运算符来实现点积。"
   ],
   "metadata": {
    "collapsed": false,
    "pycharm": {
     "name": "#%% md\n"
    }
   }
  }
 ],
 "metadata": {
  "kernelspec": {
   "display_name": "Python 3",
   "language": "python",
   "name": "python3"
  },
  "language_info": {
   "codemirror_mode": {
    "name": "ipython",
    "version": 2
   },
   "file_extension": ".py",
   "mimetype": "text/x-python",
   "name": "python",
   "nbconvert_exporter": "python",
   "pygments_lexer": "ipython2",
   "version": "2.7.6"
  }
 },
 "nbformat": 4,
 "nbformat_minor": 0
}